{
 "cells": [
  {
   "cell_type": "markdown",
   "id": "f229fb15",
   "metadata": {},
   "source": [
    "#Import các thư viện cần thiết"
   ]
  },
  {
   "cell_type": "code",
   "execution_count": 19,
   "id": "a1daf170",
   "metadata": {},
   "outputs": [
    {
     "name": "stdout",
     "output_type": "stream",
     "text": [
      "The tensorboard extension is already loaded. To reload it, use:\n",
      "  %reload_ext tensorboard\n"
     ]
    }
   ],
   "source": [
    "import sys\n",
    "sys.path.append(\"./highway-env\")\n",
    "sys.path.append(\"./rl-agents\")\n",
    "from rl_agents.trainer.evaluation import Evaluation\n",
    "from rl_agents.agents.common.factory import load_agent, load_environment\n",
    "%load_ext tensorboard"
   ]
  },
  {
   "cell_type": "code",
   "execution_count": 20,
   "id": "f3f0b358",
   "metadata": {},
   "outputs": [],
   "source": [
    "  %reload_ext tensorboard"
   ]
  },
  {
   "cell_type": "markdown",
   "id": "22d18c41",
   "metadata": {},
   "source": [
    "Cấu hình env và agent"
   ]
  },
  {
   "cell_type": "code",
   "execution_count": 21,
   "id": "269f709f",
   "metadata": {},
   "outputs": [
    {
     "data": {
      "text/html": [
       "\n",
       "      <iframe id=\"tensorboard-frame-a4a2b121566eca68\" width=\"100%\" height=\"800\" frameborder=\"0\">\n",
       "      </iframe>\n",
       "      <script>\n",
       "        (function() {\n",
       "          const frame = document.getElementById(\"tensorboard-frame-a4a2b121566eca68\");\n",
       "          const url = new URL(\"/\", window.location);\n",
       "          const port = 6008;\n",
       "          if (port) {\n",
       "            url.port = port;\n",
       "          }\n",
       "          frame.src = url;\n",
       "        })();\n",
       "      </script>\n",
       "    "
      ],
      "text/plain": [
       "<IPython.core.display.HTML object>"
      ]
     },
     "metadata": {},
     "output_type": "display_data"
    }
   ],
   "source": [
    "%tensorboard --logdir \"/home/toan/Desktop/ProjectS/out/HighwayEnvModCustom/DQNAgent/run_20220602-094839_60698_DDQN\""
   ]
  },
  {
   "cell_type": "code",
   "execution_count": null,
   "id": "a812dc7f",
   "metadata": {},
   "outputs": [],
   "source": []
  }
 ],
 "metadata": {
  "kernelspec": {
   "display_name": "Python 3 (ipykernel)",
   "language": "python",
   "name": "python3"
  },
  "language_info": {
   "codemirror_mode": {
    "name": "ipython",
    "version": 3
   },
   "file_extension": ".py",
   "mimetype": "text/x-python",
   "name": "python",
   "nbconvert_exporter": "python",
   "pygments_lexer": "ipython3",
   "version": "3.8.10"
  }
 },
 "nbformat": 4,
 "nbformat_minor": 5
}
